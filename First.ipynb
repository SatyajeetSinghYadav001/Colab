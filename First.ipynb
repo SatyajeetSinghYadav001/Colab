{
  "nbformat": 4,
  "nbformat_minor": 0,
  "metadata": {
    "colab": {
      "provenance": [],
      "authorship_tag": "ABX9TyPA86XSOT+Hb/WfsriC0WUY",
      "include_colab_link": true
    },
    "kernelspec": {
      "name": "python3",
      "display_name": "Python 3"
    },
    "language_info": {
      "name": "python"
    }
  },
  "cells": [
    {
      "cell_type": "markdown",
      "metadata": {
        "id": "view-in-github",
        "colab_type": "text"
      },
      "source": [
        "<a href=\"https://colab.research.google.com/github/SatyajeetSinghYadav001/Colab/blob/main/First.ipynb\" target=\"_parent\"><img src=\"https://colab.research.google.com/assets/colab-badge.svg\" alt=\"Open In Colab\"/></a>"
      ]
    },
    {
      "cell_type": "code",
      "source": [
        "print(\"hello world\")"
      ],
      "metadata": {
        "colab": {
          "base_uri": "https://localhost:8080/"
        },
        "id": "C6hYmg76piYC",
        "outputId": "5cb3842e-eed3-4521-84f0-5da75cebc1f5"
      },
      "execution_count": null,
      "outputs": [
        {
          "output_type": "stream",
          "name": "stdout",
          "text": [
            "hello world\n"
          ]
        }
      ]
    },
    {
      "cell_type": "code",
      "source": [
        "message = \"this is a string\"\n",
        "age = 30\n",
        "price = 19.99"
      ],
      "metadata": {
        "id": "DakbcKp1pvuh"
      },
      "execution_count": null,
      "outputs": []
    },
    {
      "source": [
        "name = \"Alice\"  # String\n",
        "is_new = True   # Boolean\n",
        "count = 10    # Integer\n",
        "pi = 3.14159  # Float"
      ],
      "cell_type": "code",
      "metadata": {
        "id": "EBv1cua2qjGl"
      },
      "execution_count": null,
      "outputs": []
    },
    {
      "source": [
        "name = input(\"Enter your name: \")\n",
        "print(\"Hello, \" + name + \"!\")"
      ],
      "cell_type": "code",
      "metadata": {
        "colab": {
          "base_uri": "https://localhost:8080/"
        },
        "id": "vouaCLAmrAFN",
        "outputId": "f812c918-47c3-4270-d311-c75f12c4f295"
      },
      "execution_count": null,
      "outputs": [
        {
          "output_type": "stream",
          "name": "stdout",
          "text": [
            "Enter your name: satyajeet singh yadav\n",
            "Hello, satyajeet singh yadav!\n"
          ]
        }
      ]
    },
    {
      "source": [
        "x = 10\n",
        "y = 5\n",
        "\n",
        "# Arithmetic operations\n",
        "sum = x + y       # Addition\n",
        "diff = x - y      # Subtraction\n",
        "prod = x * y      # Multiplication\n",
        "quot = x / y      # Division\n",
        "\n",
        "# Comparison operations\n",
        "is_equal = x == y  # Check if x is equal to y\n",
        "\n",
        "# Logical operations\n",
        "result = (x > 5) and (y < 10)  # Check if x is greater than 5 AND y is less than 10\n",
        "\n",
        "# Assignment operation\n",
        "x += 5  # Equivalent to x = x + 5"
      ],
      "cell_type": "code",
      "metadata": {
        "id": "dMF6zYfGxk9R"
      },
      "execution_count": null,
      "outputs": []
    },
    {
      "source": [
        "# if-else statement\n",
        "age = 20\n",
        "if age >= 18:\n",
        "  print(\"You are an adult\")\n",
        "else:\n",
        "  print(\"You are a minor\")\n",
        "\n",
        "# for loop\n",
        "for i in range(5):  # Prints numbers from 0 to 4\n",
        "  print(i)\n",
        "\n",
        "# while loop\n",
        "count = 0\n",
        "while count < 3:\n",
        "  print(\"Count:\", count)\n",
        "  count += 1"
      ],
      "cell_type": "code",
      "metadata": {
        "colab": {
          "base_uri": "https://localhost:8080/"
        },
        "id": "0mV6itq7ygRO",
        "outputId": "d36e61dd-2360-4622-9321-458a3229959c"
      },
      "execution_count": null,
      "outputs": [
        {
          "output_type": "stream",
          "name": "stdout",
          "text": [
            "You are an adult\n",
            "0\n",
            "1\n",
            "2\n",
            "3\n",
            "4\n",
            "Count: 0\n",
            "Count: 1\n",
            "Count: 2\n"
          ]
        }
      ]
    },
    {
      "cell_type": "code",
      "source": [],
      "metadata": {
        "id": "CJfqK-gKyh51"
      },
      "execution_count": null,
      "outputs": []
    }
  ]
}